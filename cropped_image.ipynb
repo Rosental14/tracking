{
 "cells": [
  {
   "cell_type": "code",
   "execution_count": 2,
   "metadata": {},
   "outputs": [],
   "source": [
    "from utils import read_video\n",
    "from trackers import Tracker\n",
    "import cv2\n",
    "\n",
    "# Read Video\n",
    "video_frames = read_video('input_videos/liverpool_psg.mp4')\n",
    "\n",
    "# Initialize Tracker\n",
    "tracker = Tracker('models/best.pt')\n",
    "\n",
    "tracks = tracker.get_object_tracks(video_frames,read_from_stub=True,stub_path='stubs/track_stubs.pkl')"
   ]
  },
  {
   "cell_type": "code",
   "execution_count": 24,
   "metadata": {},
   "outputs": [],
   "source": [
    "# Save cropped image of a player\n",
    "for track_id, player in tracks['players'][0].items():\n",
    "    bbox = player['bbox']\n",
    "    frame = video_frames[0]\n",
    "        \n",
    "    # crop bbox from frame\n",
    "    cropped_image = frame[int(bbox[1]):int(bbox[3]), int(bbox[0]): int(bbox[2])]\n",
    "        \n",
    "    # save the cropped image\n",
    "    cv2.imwrite(f'output_videos/cropped_image.jpg', cropped_image)\n",
    "    break"
   ]
  },
  {
   "cell_type": "code",
   "execution_count": null,
   "metadata": {},
   "outputs": [],
   "source": []
  }
 ],
 "metadata": {
  "kernelspec": {
   "display_name": "Python 3",
   "language": "python",
   "name": "python3"
  },
  "language_info": {
   "codemirror_mode": {
    "name": "ipython",
    "version": 3
   },
   "file_extension": ".py",
   "mimetype": "text/x-python",
   "name": "python",
   "nbconvert_exporter": "python",
   "pygments_lexer": "ipython3",
   "version": "3.12.6"
  }
 },
 "nbformat": 4,
 "nbformat_minor": 2
}
