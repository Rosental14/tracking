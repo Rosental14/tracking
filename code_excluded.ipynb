{
 "cells": [
  {
   "cell_type": "code",
   "execution_count": null,
   "metadata": {},
   "outputs": [],
   "source": [
    "# main.py \n",
    "# Save cropped image of a player\n",
    "    for track_id, player in tracks['players'][0].items():\n",
    "        bbox = player['bbox']\n",
    "        frame = video_frames[0]\n",
    "        \n",
    "        # crop bbox from frame\n",
    "        cropped_image = frame[int(bbox[1]):int(bbox[3]), int(bbox[0]): int(bbox[2])]\n",
    "        \n",
    "        # save the cropped image\n",
    "        cv2.imwrite(f'output_videos/cropped_image.jpg', cropped_image)\n",
    "        break"
   ]
  }
 ],
 "metadata": {
  "language_info": {
   "name": "python"
  }
 },
 "nbformat": 4,
 "nbformat_minor": 2
}
